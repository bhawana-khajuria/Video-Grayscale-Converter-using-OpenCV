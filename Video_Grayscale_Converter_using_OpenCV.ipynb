{
  "nbformat": 4,
  "nbformat_minor": 0,
  "metadata": {
    "colab": {
      "provenance": [],
      "authorship_tag": "ABX9TyO2lh049tL1ZvBXKwl4bkOZ",
      "include_colab_link": true
    },
    "kernelspec": {
      "name": "python3",
      "display_name": "Python 3"
    },
    "language_info": {
      "name": "python"
    }
  },
  "cells": [
    {
      "cell_type": "markdown",
      "metadata": {
        "id": "view-in-github",
        "colab_type": "text"
      },
      "source": [
        "<a href=\"https://colab.research.google.com/github/bhawana-khajuria/Video-Grayscale-Converter-using-OpenCV/blob/main/Video_Grayscale_Converter_using_OpenCV.ipynb\" target=\"_parent\"><img src=\"https://colab.research.google.com/assets/colab-badge.svg\" alt=\"Open In Colab\"/></a>"
      ]
    },
    {
      "cell_type": "markdown",
      "source": [
        "**Import libraries**"
      ],
      "metadata": {
        "id": "xCIOgl__6sV-"
      }
    },
    {
      "cell_type": "code",
      "source": [
        "import cv2\n",
        "import urllib.request\n",
        "import os"
      ],
      "metadata": {
        "id": "MFm_cDWS3P6M"
      },
      "execution_count": 2,
      "outputs": []
    },
    {
      "cell_type": "markdown",
      "source": [
        "## **Step 1: Download sample color vide**"
      ],
      "metadata": {
        "id": "FMRHkVrA6Vj8"
      }
    },
    {
      "cell_type": "code",
      "source": [
        "video_url = \"https://github.com/opencv/opencv/raw/master/samples/data/vtest.avi\"\n",
        "video_path = \"input_video.avi\"\n",
        "\n",
        "if not os.path.exists(video_path):\n",
        "    print(\"Downloading sample video...\")\n",
        "    urllib.request.urlretrieve(video_url, video_path)\n",
        "    print(\"Video downloaded successfully.\")\n",
        "else:\n",
        "    print(\"Sample video already exists.\")\n"
      ],
      "metadata": {
        "colab": {
          "base_uri": "https://localhost:8080/"
        },
        "id": "TaV_oXPE6UMG",
        "outputId": "c0f25ff1-635f-4277-c31c-0164f0c145a3"
      },
      "execution_count": 3,
      "outputs": [
        {
          "output_type": "stream",
          "name": "stdout",
          "text": [
            "Sample video already exists.\n"
          ]
        }
      ]
    },
    {
      "cell_type": "markdown",
      "source": [
        "## **Step 2: Convert video to grayscale**"
      ],
      "metadata": {
        "id": "kDzhbeFS6hv7"
      }
    },
    {
      "cell_type": "code",
      "source": [
        "cap = cv2.VideoCapture(video_path)\n",
        "\n",
        "if not cap.isOpened():\n",
        "    print(\"Error: Could not open video.\")\n",
        "    exit()\n",
        "\n",
        "# Video properties\n",
        "frame_width = int(cap.get(cv2.CAP_PROP_FRAME_WIDTH))\n",
        "frame_height = int(cap.get(cv2.CAP_PROP_FRAME_HEIGHT))\n",
        "fps = cap.get(cv2.CAP_PROP_FPS)\n",
        "fourcc = cv2.VideoWriter_fourcc(*'XVID')\n",
        "\n",
        "output_path = \"grayscale_video.avi\"\n",
        "out = cv2.VideoWriter(output_path, fourcc, fps, (frame_width, frame_height), isColor=False)\n",
        "\n",
        "print(\"Converting video to grayscale...\")\n",
        "\n",
        "while True:\n",
        "    ret, frame = cap.read()\n",
        "    if not ret:\n",
        "        break\n",
        "    gray = cv2.cvtColor(frame, cv2.COLOR_BGR2GRAY)\n",
        "    out.write(gray)\n",
        "\n",
        "cap.release()\n",
        "out.release()\n",
        "\n",
        "print(f\"Grayscale video saved as: {output_path}\")\n"
      ],
      "metadata": {
        "colab": {
          "base_uri": "https://localhost:8080/"
        },
        "id": "dYXZ1Kh-qV2P",
        "outputId": "96315059-8f72-4b7d-8e24-190c3b43da73"
      },
      "execution_count": 4,
      "outputs": [
        {
          "output_type": "stream",
          "name": "stdout",
          "text": [
            "Converting video to grayscale...\n",
            "Grayscale video saved as: grayscale_video.avi\n"
          ]
        }
      ]
    }
  ]
}